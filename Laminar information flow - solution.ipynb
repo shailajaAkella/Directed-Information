{
 "cells": [
  {
   "cell_type": "markdown",
   "id": "16da5cb6",
   "metadata": {},
   "source": [
    "# MaDeLaNE: Workshop on effective connectivity"
   ]
  },
  {
   "cell_type": "markdown",
   "id": "7dd9e21c",
   "metadata": {},
   "source": [
    "Connectivity can be characterized in two ways, functional connectivity and effective connectivity. While functional connectivity describes statistical dependencies between data, effective connectivity deals with the causal influences between the data. \n",
    "\n",
    "<b>Mutual information</b>[1] and <b>directed information</b>[2] are two metrics that can be used to study the connectivity between two neurons. \n",
    "\n",
    "<b>Mutual information</b> quantifies the amount of information that one random variable (or neural signal, in our case) contains about another. It is a symmetric measure, and better suited to study the functional connectivity between neural signals. \n",
    "    \n",
    "<b>Directed information</b>, on the other hand, is a causal metric. It measures the amount of information that one time series carries about another when predicting its future values, thus indicating the direction of influence. Directed information provides an estimate of the effective connectivity between the signals. For two random variables, directed information is described as, \n",
    "    $$I(X^{n} \\rightarrow Y^{n}) = H(Y^{n}) - \\displaystyle \\sum_{i=1}^{n} \\left[H(Y_{i}|Y^{i-1}, X^{i})\\right] $$\n"
   ]
  },
  {
   "cell_type": "markdown",
   "id": "20ee6e24",
   "metadata": {},
   "source": [
    "Lets first import some basic dependencies and simulate single unit activity to understand how DI is estimated. "
   ]
  },
  {
   "cell_type": "code",
   "execution_count": 1,
   "id": "fcb4ed1c",
   "metadata": {},
   "outputs": [],
   "source": [
    "import numpy as np\n",
    "import matplotlib.pyplot as plt\n",
    "import matplotlib.cm as cm\n",
    "import matplotlib as mpl\n",
    "from random import seed, random\n",
    "import pandas as pd\n",
    "from scipy import signal\n",
    "from scipy.stats import f_oneway\n",
    "\n",
    "import utils\n"
   ]
  },
  {
   "cell_type": "markdown",
   "id": "0e915dee",
   "metadata": {},
   "source": [
    "We will use the <b>Izhikevich neuron model</b> [3] to simulate spiking activity in two neurons that are connected such that neuron 1 causally influences neuron 2. Both of these neurons are provided with input current simulating the presense of a stimulus during the entire trial."
   ]
  },
  {
   "cell_type": "code",
   "execution_count": 2,
   "id": "4d2c23c3",
   "metadata": {},
   "outputs": [],
   "source": [
    "# Initializations\n",
    "duration = 1 # in seconds\n",
    "num_trials = 10  \n",
    "num_units = 2\n",
    "step_size = 1e-3 # in seconds\n",
    "Fs = 1/step_size # sampling frequency\n",
    "T =int(duration / step_size) # duration in samples\n",
    "\n",
    "# weights - 2D matrix summarizing the strength of connectivity between the units\n",
    "#         - rows corresponds to effect variables, columns are the causal variables\n",
    "weights = np.array([[0, 0], [0.7, 0]]) # neuron 1 -> neuron 2, with a strength of 0.7\n",
    "\n",
    "input_current = [100, 100]"
   ]
  },
  {
   "cell_type": "code",
   "execution_count": 3,
   "id": "690c0a50",
   "metadata": {},
   "outputs": [
    {
     "data": {
      "text/html": [
       "<div>\n",
       "<style scoped>\n",
       "    .dataframe tbody tr th:only-of-type {\n",
       "        vertical-align: middle;\n",
       "    }\n",
       "\n",
       "    .dataframe tbody tr th {\n",
       "        vertical-align: top;\n",
       "    }\n",
       "\n",
       "    .dataframe thead th {\n",
       "        text-align: right;\n",
       "    }\n",
       "</style>\n",
       "<table border=\"1\" class=\"dataframe\">\n",
       "  <thead>\n",
       "    <tr style=\"text-align: right;\">\n",
       "      <th></th>\n",
       "      <th>spike_times</th>\n",
       "    </tr>\n",
       "  </thead>\n",
       "  <tbody>\n",
       "    <tr>\n",
       "      <th>0</th>\n",
       "      <td>[[59, 138, 205, 278, 319, 397, 452, 528, 596, ...</td>\n",
       "    </tr>\n",
       "    <tr>\n",
       "      <th>1</th>\n",
       "      <td>[[48, 80, 151, 216, 283, 300, 354, 415, 470, 5...</td>\n",
       "    </tr>\n",
       "  </tbody>\n",
       "</table>\n",
       "</div>"
      ],
      "text/plain": [
       "                                         spike_times\n",
       "0  [[59, 138, 205, 278, 319, 397, 452, 528, 596, ...\n",
       "1  [[48, 80, 151, 216, 283, 300, 354, 415, 470, 5..."
      ]
     },
     "execution_count": 3,
     "metadata": {},
     "output_type": "execute_result"
    }
   ],
   "source": [
    "# Simulate spiking\n",
    "\n",
    "simulated_spikes = utils.simulate(num_units=num_units, num_trials=num_trials,\n",
    "                                  duration=duration, step_size= step_size, weights = weights, inp_curr=input_current)\n",
    "\n",
    "simulated_spikes"
   ]
  },
  {
   "cell_type": "code",
   "execution_count": 4,
   "id": "8053fc14",
   "metadata": {},
   "outputs": [
    {
     "data": {
      "image/png": "[encoded data removed]",
      "text/plain": [
       "<Figure size 720x288 with 2 Axes>"
      ]
     },
     "metadata": {
      "needs_background": "light"
     },
     "output_type": "display_data"
    }
   ],
   "source": [
    "# make the raster plot\n",
    "fig, ax = plt.subplots(1, num_units, sharey = True, figsize =(10, 4))\n",
    "spike_times = simulated_spikes.spike_times.values\n",
    "for unit in range(num_units):\n",
    "    ax[unit].eventplot(spike_times[unit], linelength = 0.8, color = 'k')\n",
    "    \n",
    "    # plot clean up \n",
    "    ax[unit].set_title('neuron ' + str(unit+1))\n",
    "    ax[unit].spines['top'].set_visible(False)\n",
    "    ax[unit].spines['right'].set_visible(False)\n",
    "    ax[unit].set_xlabel('Time (ms)')\n",
    "plt.rcParams.update({'font.size': 12})\n",
    "ax[0].set_ylabel('Trials')\n",
    "plt.tight_layout()"
   ]
  },
  {
   "cell_type": "code",
   "execution_count": 5,
   "id": "c09746b6",
   "metadata": {},
   "outputs": [],
   "source": [
    "# Function to evaluate spike rates\n",
    "def calculate_rate(T, win, spikes = None, spike_times = None):\n",
    "    if spikes is None:\n",
    "        spikes = np.zeros(T)\n",
    "        spikes[spike_times] = 1\n",
    "    S = np.zeros(T)\n",
    "    for t in range(0, T):\n",
    "        S[t] = np.sum(spikes[t - win:t + 1])\n",
    "    return S/win\n",
    "\n",
    "# window for boxcar filter\n",
    "rate_w = int(0.01*Fs)\n",
    "\n",
    "# evaluate spike rate for each trial\n",
    "rates = np.array([[calculate_rate(T, win = rate_w, spike_times = spike_times) \n",
    "                   for spike_times in row.spike_times] for _, row in simulated_spikes.iterrows()])"
   ]
  },
  {
   "cell_type": "markdown",
   "id": "81243fb1",
   "metadata": {},
   "source": [
    "How does the correlation changes if we were to change the strength of connection between these units?"
   ]
  },
  {
   "cell_type": "code",
   "execution_count": 6,
   "id": "bbf0b3b4",
   "metadata": {},
   "outputs": [],
   "source": [
    "# function to evaluate the avg. cross correlation between rates\n",
    "def avg_cross_correlation(rates1, rates2, maxlags): \n",
    "    num_trials, T = rates1.shape\n",
    "    cross_correlations = [np.correlate(rates1[i], rates2[i], mode='full') for i in range(num_trials)]\n",
    "    \n",
    "    if maxlags is not None:\n",
    "        lags = np.arange(-T + 1, T)\n",
    "        trim_idx = (lags >= -maxlags) & (lags <= maxlags)\n",
    "        cross_correlations = [cross_corr[trim_idx] for cross_corr in cross_correlations]\n",
    "        lags = lags[trim_idx]\n",
    "    else:\n",
    "        lags = np.arange(-T + 1, T)\n",
    "\n",
    "    return lags, np.mean(cross_correlations, axis=0), np.std(cross_correlations, axis=0)/np.sqrt(num_trials)"
   ]
  },
  {
   "cell_type": "code",
   "execution_count": 7,
   "id": "f47b7573",
   "metadata": {},
   "outputs": [
    {
     "data": {
      "image/png": "[encoded data removed]",
      "text/plain": [
       "<Figure size 432x324 with 1 Axes>"
      ]
     },
     "metadata": {
      "needs_background": "light"
     },
     "output_type": "display_data"
    }
   ],
   "source": [
    "# set maxlag\n",
    "maxlags = int(0.025*Fs)\n",
    "\n",
    "fig, ax = plt.subplots(figsize =(6, 4.5))\n",
    "\n",
    "# colors for plotting \n",
    "colors = [cm.Purples(i) for i in np.linspace(0, 1, 25)][5::9]\n",
    "\n",
    "for n, w in enumerate(np.arange(0, 1.1, 0.4)):\n",
    "    # adjust the connectivity strength\n",
    "    weights_n = np.array([[0, 0], [w, 0]])\n",
    "    \n",
    "    # simulate the network\n",
    "    simulation_n = utils.simulate(num_units=num_units, num_trials=num_trials,\n",
    "                                      duration=duration, step_size= step_size, weights = weights_n, inp_curr=input_current)\n",
    "    \n",
    "    \n",
    "    # calculate spike rates\n",
    "    rates_n = np.array([[calculate_rate(T, win = rate_w, spike_times = spike_times) for spike_times in row.spike_times] for _, row in simulation_n.iterrows()])\n",
    "    \n",
    "    # calculate the trial averaged cross correlation \n",
    "    lags_n, mean_corr_n, sem_corr_n = avg_cross_correlation(rates_n[1], rates_n[0], maxlags=maxlags)\n",
    "    \n",
    "    # plot it\n",
    "    ax.errorbar(lags_n, mean_corr_n, yerr = sem_corr_n, linestyle = '-',\n",
    "                color = colors[n], label = 'w = ' + str(np.round(w, 2)));\n",
    "\n",
    "# plot clean up  \n",
    "ax.legend(bbox_to_anchor = (1.01, 1))\n",
    "ax.spines['top'].set_visible(False)\n",
    "ax.spines['right'].set_visible(False)\n",
    "ax.set_title('Avg. cross-correlation\\nbetween neuron 2 and neuron 1')\n",
    "ax.set_xlabel('Time (ms)')\n",
    "ax.set_ylabel('correlation')\n",
    "plt.rcParams.update({'font.size': 12})\n",
    "plt.tight_layout()"
   ]
  },
  {
   "cell_type": "markdown",
   "id": "88dd9582",
   "metadata": {},
   "source": [
    "So the simulations are working! \n",
    "\n",
    "Important: Cross-correlation serves as an excellent initial step to assess functional connectivity, particularly for capturing linear relationships between neural signals. However, interactions among single neurons in the brain are often non-linear. Consequently, relying solely on cross-correlation analyses might overlook significant interactions in such cases. To capture non-linear interactions between units, <b> directed information </b> serves as a better metric. \n",
    "\n",
    "Now, let's see how to calculate directed information between these units."
   ]
  },
  {
   "cell_type": "markdown",
   "id": "4b6147c3",
   "metadata": {},
   "source": [
    "## Directed Information"
   ]
  },
  {
   "cell_type": "markdown",
   "id": "6d74f306",
   "metadata": {},
   "source": [
    "To calculate directed information on point process data[4], we need to consider several key components:\n",
    "\n",
    "1. <b>Rate function</b>:  Determine the intensity function, representing the spike rate. Recommended types of intensity functions: boxcar or Gaussian filter. \n",
    "<br> </br>\n",
    "2. <b>Rate function filter width</b>: The width of the filter used is crucial in determining the temporal resolution at which interactions can be detected. \n",
    "<br></br>\n",
    "3. <b>Memory</b>: Define the length of past history to consider when evaluating directed information. This parameter can be determined based on experimental requirements, the window of interest, or through empirical testing with various values.\n",
    "<br></br>\n",
    "4. <b>Kernel width of the Gram matrix</b>: This parameter influences how similar closely related data points are considered when assessing temporal dependencies and interactions within the point process data.\n",
    "<br></br>\n",
    "Advanced hyperparameters include: \n",
    "1. Kernel to evaluate the Gram matrix\n",
    "2. Order of alpha entropy "
   ]
  },
  {
   "cell_type": "code",
   "execution_count": 8,
   "id": "c42f125d",
   "metadata": {},
   "outputs": [],
   "source": [
    "from calculate_DI import directed_information"
   ]
  },
  {
   "cell_type": "markdown",
   "id": "b45dbd02",
   "metadata": {},
   "source": [
    "Since we modeled our data such that neuron 1 $(n_1)$ causally influences neuron 2 $(n_2)$, we should see that \n",
    "\n",
    "$$ DI (n_1 \\rightarrow n_2) > DI (n_2 \\rightarrow n_1)$$   "
   ]
  },
  {
   "cell_type": "code",
   "execution_count": 9,
   "id": "057df112",
   "metadata": {},
   "outputs": [
    {
     "name": "stdout",
     "output_type": "stream",
     "text": [
      "Wall time: 4min 51s\n"
     ]
    }
   ],
   "source": [
    "%%time\n",
    "# Initialize\n",
    "di = {(n1, n2): np.zeros(num_trials) + np.nan for n1 in range(num_units) for n2 in range(num_units) if n1 != n2}\n",
    "memory = 15\n",
    "\n",
    "# Evaluate DI for each trial and in both directions\n",
    "for trial in range(num_trials):\n",
    "    for n1 in range(num_units):\n",
    "        for n2 in range(num_units):\n",
    "            if n1 != n2:\n",
    "                model = directed_information(memory=memory)\n",
    "                di[(n1, n2)][trial] = model.DI(rates[n1, trial], rates[n2, trial])"
   ]
  },
  {
   "cell_type": "code",
   "execution_count": 10,
   "id": "c457683b",
   "metadata": {},
   "outputs": [
    {
     "data": {
      "image/png": "[encoded data removed]",
      "text/plain": [
       "<Figure size 360x288 with 1 Axes>"
      ]
     },
     "metadata": {
      "needs_background": "light"
     },
     "output_type": "display_data"
    }
   ],
   "source": [
    "# plot the histogram of DI in either directions for comparison \n",
    "fig,ax = plt.subplots(figsize = (5, 4))\n",
    "lim = np.max(np.concatenate((di[(0, 1)], di[(1, 0)])))\n",
    "ax.hist(di[(0, 1)], color = 'k', bins = np.arange(0.05, lim, 0.025), label = r\"DI($n_1\\rightarrow n_2$)\", width = 0.04)\n",
    "ax.hist(di[(1, 0)], color = 'silver', bins = np.arange(0.05, lim, 0.025), label = r\"DI($n_2\\rightarrow n_1$)\", width = 0.04)\n",
    "\n",
    "# plot clean up\n",
    "ax.set_xlabel('directed information')\n",
    "ax.set_ylabel('number of trials')\n",
    "ax.spines['top'].set_visible(False)\n",
    "ax.spines['right'].set_visible(False)\n",
    "plt.rcParams.update({'font.size': 12})\n",
    "ax.legend()\n",
    "plt.tight_layout()\n"
   ]
  },
  {
   "cell_type": "markdown",
   "id": "5b91f8a0",
   "metadata": {},
   "source": [
    "### Hyperparameter tuning"
   ]
  },
  {
   "cell_type": "markdown",
   "id": "9e4e75aa",
   "metadata": {},
   "source": [
    "How do memory and Kernel width of the Gram matrix influence the calculation of directed information?"
   ]
  },
  {
   "cell_type": "markdown",
   "id": "e0d9b02a",
   "metadata": {},
   "source": [
    "#### Memory size "
   ]
  },
  {
   "cell_type": "code",
   "execution_count": 11,
   "id": "95260b44",
   "metadata": {},
   "outputs": [
    {
     "name": "stdout",
     "output_type": "stream",
     "text": [
      "Wall time: 2min 31s\n"
     ]
    }
   ],
   "source": [
    "%%time\n",
    "trial = 8 # picking a random trial\n",
    "memory_range = [2] + list(np.arange(5, 30, 5)) # memory range to sweep over\n",
    "\n",
    "# Initialize\n",
    "di_memory = {(n1, n2): np.zeros(len(memory_range)) + np.nan for n1 in range(num_units) for n2 in range(num_units) if n1 != n2}\n",
    "\n",
    "# loop through the memory values\n",
    "for n, memory in enumerate(memory_range):\n",
    "    for n1 in range(num_units):\n",
    "        for n2 in range(num_units):\n",
    "            if n1 != n2:\n",
    "                model = directed_information(memory=memory) \n",
    "                di_memory[(n1, n2)][n] = model.DI(rates[n1, trial], rates[n2, trial])"
   ]
  },
  {
   "cell_type": "code",
   "execution_count": 12,
   "id": "3e4095ad",
   "metadata": {},
   "outputs": [
    {
     "data": {
      "image/png": "[encoded data removed]",
      "text/plain": [
       "<Figure size 360x288 with 1 Axes>"
      ]
     },
     "metadata": {
      "needs_background": "light"
     },
     "output_type": "display_data"
    }
   ],
   "source": [
    "# plot the DI values for the memory range\n",
    "fig, ax = plt.subplots(figsize = (5, 4))\n",
    "ax.plot(memory_range, di_memory[(0, 1)], color = 'k', marker = 'o', label = r\"DI($n_1\\rightarrow n_2$)\")\n",
    "ax.plot(memory_range, di_memory[(1, 0)], color = 'silver', marker = 'o', label = r\"DI($n_2\\rightarrow n_1$)\")\n",
    " \n",
    "# plot clean up \n",
    "ax.set_xlabel('memory (ms)')\n",
    "ax.set_ylabel('directed information')\n",
    "ax.spines['top'].set_visible(False)\n",
    "ax.spines['right'].set_visible(False)\n",
    "ax.set_xticks(memory_range)\n",
    "plt.rcParams.update({'font.size': 12})\n",
    "ax.legend()\n",
    "plt.tight_layout()"
   ]
  },
  {
   "cell_type": "markdown",
   "id": "15032bd7",
   "metadata": {},
   "source": [
    "As we increase the memory size, the directed information also grows. It's essential to choose an appropriate memory size to effectively capture the interactions within spiking data. For instance, at a memory size of 2 ms, we observe no discernible difference between the causal and non-causal directions. This observation aligns with our simulation, where we modeled a time delay of ~10 ms for the affected neuron to receive the input. "
   ]
  },
  {
   "cell_type": "markdown",
   "id": "ee114abe",
   "metadata": {},
   "source": [
    "#### Kernel width of the Gram matrix"
   ]
  },
  {
   "cell_type": "markdown",
   "id": "ee91d76b",
   "metadata": {},
   "source": [
    "Next, lets look at the effect of the kernel width of the Gram matrix on DI. The Gram matrix captures the variance in the data and is an important component for entropy estimation. \n",
    "\n",
    "\n",
    "For a variable $X = \\{\\textbf{x}_i\\}_{i = 1}^{N} $, the Gram matrix, $K$, is an $N \\times N$ matrix whose entries are given by $\\kappa(\\textbf{x}_i\\ ,  \\textbf{x}_j), i, j = 1, ..., N$, where $\\kappa$ is a kernel function. This function dictates the extent of similarity between various realizations of $X$. \n",
    "\n",
    "For our puposes, we use a Gaussian kernel to evaluate the Gram matrix of each of the input variables and its kernel width dictates the extent of similarity between data points. "
   ]
  },
  {
   "cell_type": "code",
   "execution_count": 13,
   "id": "d9399054",
   "metadata": {},
   "outputs": [
    {
     "name": "stdout",
     "output_type": "stream",
     "text": [
      "Wall time: 2min 51s\n"
     ]
    }
   ],
   "source": [
    "%%time\n",
    "trial = 8 # picking a random trial\n",
    "kernel_widths = [1e-1, 2, 5, 10, 20, 30] # range of widths to sweep over\n",
    "memory = 15\n",
    "\n",
    "# Initialize\n",
    "di_kw = {(n1, n2): np.zeros(len(kernel_widths )) + np.nan for n1 in range(num_units) for n2 in range(num_units) if n1 != n2}\n",
    "\n",
    "# Evaluate DI for different memory values\n",
    "for n, width in enumerate(kernel_widths):\n",
    "    for n1 in range(num_units):\n",
    "        for n2 in range(num_units):\n",
    "            if n1 != n2:\n",
    "                model = directed_information(memory = memory, multiplier_X = width, multiplier_Y = width)\n",
    "                di_kw[(n1, n2)][n] = model.DI(rates[n1, trial], rates[n2, trial])"
   ]
  },
  {
   "cell_type": "code",
   "execution_count": 27,
   "id": "3df31528",
   "metadata": {},
   "outputs": [
    {
     "data": {
      "image/png": "[encoded data removed]",
      "text/plain": [
       "<Figure size 468x288 with 1 Axes>"
      ]
     },
     "metadata": {
      "needs_background": "light"
     },
     "output_type": "display_data"
    }
   ],
   "source": [
    "# plot the DI values for different kernel widths\n",
    "fig, ax = plt.subplots(figsize = (6.5, 4))\n",
    "ax.plot(kernel_widths, di_kw[(0, 1)], color = 'k', marker = 'o', label = r\"DI($n_1\\rightarrow n_2$)\")\n",
    "ax.plot(kernel_widths, di_kw[(1, 0)], color = 'silver', marker = 'o', label = r\"DI($n_2\\rightarrow n_1$)\")\n",
    "  \n",
    "# plot clean up \n",
    "ax.set_xlabel(r\"kernel width $\\times$ silverman's rule\")\n",
    "ax.set_ylabel('directed information')\n",
    "ax.spines['top'].set_visible(False)\n",
    "ax.spines['right'].set_visible(False)\n",
    "ax.set_xticks(kernel_widths)\n",
    "plt.rcParams.update({'font.size': 12})\n",
    "ax.legend()\n",
    "plt.tight_layout()"
   ]
  },
  {
   "cell_type": "markdown",
   "id": "e4295f5d",
   "metadata": {},
   "source": [
    "Very high values would group almost all points as being similar, meaning that no additional information is needed to explain the variance in the effect variable since all information can be obtained from its own values. No knowledge from the past values of the causal variable is needed and we see a drop in directed information. \n",
    "\n",
    "Very low values, on the other hand, would group all points as being dissimilar, and so we see an increase in directed information. In real scenarios, in the absence of ground truth, this could lead to falsely detected causal influences. "
   ]
  },
  {
   "cell_type": "markdown",
   "id": "26971918",
   "metadata": {},
   "source": [
    "#### Questions: \n",
    "Directed information is unbounded. So, in the absence of ground, what are some ways by which you can find a significant causal effect between units? \n",
    "\n",
    "How about filtering out indirect causal effects like $n_1 \\rightarrow n_2$ and $n_2 \\rightarrow n_3$ gives $n_1 \\rightarrow n_3$?   "
   ]
  },
  {
   "cell_type": "markdown",
   "id": "8ece893e",
   "metadata": {},
   "source": [
    "### References \n",
    "\n",
    "[1] Cover, Thomas M. Elements of information theory. John Wiley & Sons, 1999.\n",
    "\n",
    "[2] Massey, James. \"Causality, feedback and directed information.\" Proc. Int. Symp. Inf. Theory Applic.(ISITA-90). Vol. 2. 1990.\n",
    "\n",
    "[3] Izhikevich, Eugene M. Dynamical systems in neuroscience. MIT press, 2007.\n",
    "\n",
    "[4] Akella, Shailaja, et al. \"Measurable fields-to-spike causality and its dependence on cortical layer and area.\" bioRxiv (2023)."
   ]
  },
  {
   "cell_type": "code",
   "execution_count": null,
   "id": "59ae1aae",
   "metadata": {},
   "outputs": [],
   "source": []
  }
 ],
 "metadata": {
  "kernelspec": {
   "display_name": "Python 3 (ipykernel)",
   "language": "python",
   "name": "python3"
  },
  "language_info": {
   "codemirror_mode": {
    "name": "ipython",
    "version": 3
   },
   "file_extension": ".py",
   "mimetype": "text/x-python",
   "name": "python",
   "nbconvert_exporter": "python",
   "pygments_lexer": "ipython3",
   "version": "3.9.7"
  }
 },
 "nbformat": 4,
 "nbformat_minor": 5
}
